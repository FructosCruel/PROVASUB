{
 "cells": [
  {
   "cell_type": "code",
   "execution_count": null,
   "id": "9541fea4",
   "metadata": {},
   "outputs": [],
   "source": [
    "def selection_sort(arr):\n",
    "    for i in range(len(arr)):\n",
    "        min_indx = i\n",
    "        for j in range(i + 1, len(arr)):\n",
    "            if arr[j] < arr[min_indx], arr[i]\n",
    "return arr\n",
    "\n",
    "# Lista de Exemplo\n",
    "lista = [29, 20, 14, 37, 13]\n",
    "print(\"Lista original: \", lista)\n",
    "print(\"Lista ordenada:\", selection_sort(lista))"
   ]
  },
  {
   "cell_type": "code",
   "execution_count": null,
   "id": "28e487a7",
   "metadata": {},
   "outputs": [],
   "source": [
    "def selection_sort(arr):\n",
    "    for i in range(len(arr)):\n",
    "        min_indx = i\n",
    "        for j in range(i + 1, len(arr)):\n",
    "            if arr[j] < arr[min_indx]:\n",
    "                min_indx = j\n",
    "        # Troca os elementos\n",
    "        arr[i], arr[min_indx] = arr[min_indx], arr[i]\n",
    "    return arr\n",
    "\n",
    "def encontrar_maior(arr):\n",
    "    if not arr:\n",
    "        return None\n",
    "    return arr[-1]  # O maior elemento estará no final da lista ordenada\n",
    "\n",
    "# Lista de Exemplo\n",
    "lista = [29, 20, 14, 37, 13]\n",
    "print(\"Lista original: \", lista)\n",
    "\n",
    "# Ordena a lista\n",
    "lista_ordenada = selection_sort(lista)\n",
    "print(\"Lista ordenada:\", lista_ordenada)\n",
    "print(\"Maior elemento da lista ordenada:\", maior_elemento)"
   ]
  }
 ],
 "metadata": {
  "language_info": {
   "name": "python"
  }
 },
 "nbformat": 4,
 "nbformat_minor": 5
}
