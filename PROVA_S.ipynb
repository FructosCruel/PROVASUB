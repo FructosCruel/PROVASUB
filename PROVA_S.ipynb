{
 "cells": [
  {
   "cell_type": "code",
   "execution_count": 5,
   "id": "b507e097",
   "metadata": {},
   "outputs": [
    {
     "name": "stdout",
     "output_type": "stream",
     "text": [
      "Lista original:  [29, 10, 14, 37, 13]\n",
      "Lista ordenada: [10, 13, 14, 29, 37]\n"
     ]
    }
   ],
   "source": [
    "def bubble_sort(arr):\n",
    "    n = len(arr)\n",
    "    for i in range(n):\n",
    "        for j in range(0, n-i-1):\n",
    "            if arr[j] > arr[j+1]:\n",
    "                arr[j], arr[j+1] = arr[j+1], arr[j]\n",
    "    return arr\n",
    "\n",
    "# Lista de Exemplo\n",
    "lista = [29, 10, 14, 37, 13]\n",
    "print(\"Lista original: \", lista)\n",
    "sorted_lista = bubble_sort(lista.copy())\n",
    "print(\"Lista ordenada:\", sorted_lista)\n",
    "\n",
    "#adicione abaixo o método (find_min(sorted_lista)) para encontrar \n",
    "#e exibir o menor elemento da lista ordenada"
   ]
  },
  {
   "cell_type": "code",
   "execution_count": null,
   "id": "6554f0e9",
   "metadata": {},
   "outputs": [],
   "source": []
  },
  {
   "cell_type": "code",
   "execution_count": 1,
   "id": "5d013097",
   "metadata": {},
   "outputs": [
    {
     "name": "stdout",
     "output_type": "stream",
     "text": [
      "True\n",
      "False\n"
     ]
    }
   ],
   "source": [
    "class Node:\n",
    "    def __init__(self, value):\n",
    "        self.value = value\n",
    "        self.left = None\n",
    "        self.right = None\n",
    "class BST:\n",
    "    def __init__(self):\n",
    "        self.root = None\n",
    "    def insert(self, value):\n",
    "        if self.root is None:\n",
    "            self.root = Node(value)\n",
    "        else:\n",
    "            self._insert(self.root, value)\n",
    "\n",
    "    def _insert(self, current_node, value):\n",
    "        #LACUNA 1 :     INSERÇÃO NO LADO ESQUERDO\n",
    "        if value < current_node.value:\n",
    "            if current_node.left is None:\n",
    "                current_node.left = Node(value)\n",
    "            else:\n",
    "                self._insert(current_node.left, value)\n",
    "        #LACUNA 2 :     INSERÇÃO NO LADO DIREITO\n",
    "        elif value > current_node.value:\n",
    "            if current_node.right is None:\n",
    "                current_node.right = Node(value)\n",
    "            else:\n",
    "                self._insert(current_node.right, value)\n",
    "    def search(self, value):\n",
    "        return self._search(self.root, value)\n",
    "    def _search(self, current_node, value):\n",
    "        # LACUNA 3 : Casos base e recursão\n",
    "        if current_node is None:\n",
    "            return False\n",
    "        elif value == current_node.value:\n",
    "            return True\n",
    "        elif value < current_node.value:\n",
    "            return self._search(current_node.left, value)\n",
    "        else:\n",
    "            return self._search(current_node.right, value)\n",
    "#Teste\n",
    "arvore = BST()\n",
    "arvore.insert(50)\n",
    "arvore.insert(30)\n",
    "arvore.insert(70)\n",
    "arvore.insert(20)\n",
    "\n",
    "print(arvore.search(30))  # Deve retornar True\n",
    "print(arvore.search(60))  # Deve retornar False"
   ]
  }
 ],
 "metadata": {
  "kernelspec": {
   "display_name": "Python 3",
   "language": "python",
   "name": "python3"
  },
  "language_info": {
   "codemirror_mode": {
    "name": "ipython",
    "version": 3
   },
   "file_extension": ".py",
   "mimetype": "text/x-python",
   "name": "python",
   "nbconvert_exporter": "python",
   "pygments_lexer": "ipython3",
   "version": "3.11.13"
  }
 },
 "nbformat": 4,
 "nbformat_minor": 5
}
